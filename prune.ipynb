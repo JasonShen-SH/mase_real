{
 "cells": [
  {
   "cell_type": "code",
   "execution_count": 3,
   "metadata": {},
   "outputs": [
    {
     "name": "stdout",
     "output_type": "stream",
     "text": [
      "/mnt/d/imperial/second_term/adls/projects/mase/machop\n"
     ]
    }
   ],
   "source": [
    "%cd machop/"
   ]
  },
  {
   "cell_type": "code",
   "execution_count": 13,
   "metadata": {},
   "outputs": [
    {
     "name": "stdout",
     "output_type": "stream",
     "text": [
      "Seed set to 0\n",
      "+-------------------------+--------------------------+-------------------+-----------------+--------------------------+\n",
      "| Name                    |         Default          |   Config. File    | Manual Override |        Effective         |\n",
      "+-------------------------+--------------------------+-------------------+-----------------+--------------------------+\n",
      "| task                    |      \u001b[38;5;8mclassification\u001b[0m      |        \u001b[38;5;8mcls\u001b[0m        |       cls       |           cls            |\n",
      "| load_name               |           None           |                   |                 |           None           |\n",
      "| load_type               |            mz            |                   |                 |            mz            |\n",
      "| batch_size              |           \u001b[38;5;8m128\u001b[0m            |        256        |                 |           256            |\n",
      "| to_debug                |          False           |                   |                 |          False           |\n",
      "| log_level               |           info           |                   |                 |           info           |\n",
      "| report_to               |       tensorboard        |                   |                 |       tensorboard        |\n",
      "| seed                    |            \u001b[38;5;8m0\u001b[0m             |        42         |                 |            42            |\n",
      "| quant_config            |           None           |                   |                 |           None           |\n",
      "| training_optimizer      |           adam           |                   |                 |           adam           |\n",
      "| trainer_precision       |         16-mixed         |                   |                 |         16-mixed         |\n",
      "| learning_rate           |          \u001b[38;5;8m1e-05\u001b[0m           |       0.001       |                 |          0.001           |\n",
      "| weight_decay            |            0             |                   |                 |            0             |\n",
      "| max_epochs              |            \u001b[38;5;8m20\u001b[0m            |         5         |                 |            5             |\n",
      "| max_steps               |            -1            |                   |                 |            -1            |\n",
      "| accumulate_grad_batches |            1             |                   |                 |            1             |\n",
      "| log_every_n_steps       |            \u001b[38;5;8m50\u001b[0m            |        50         |                 |            50            |\n",
      "| num_workers             |            \u001b[38;5;8m20\u001b[0m            |                   |        0        |            0             |\n",
      "| num_devices             |            1             |                   |                 |            1             |\n",
      "| num_nodes               |            1             |                   |                 |            1             |\n",
      "| accelerator             |           \u001b[38;5;8mauto\u001b[0m           |        cpu        |                 |           cpu            |\n",
      "| strategy                |           auto           |                   |                 |           auto           |\n",
      "| is_to_auto_requeue      |          False           |                   |                 |          False           |\n",
      "| github_ci               |          False           |                   |                 |          False           |\n",
      "| disable_dataset_cache   |          False           |                   |                 |          False           |\n",
      "| target                  |   xcu250-figd2104-2L-e   |                   |                 |   xcu250-figd2104-2L-e   |\n",
      "| num_targets             |           100            |                   |                 |           100            |\n",
      "| is_pretrained           |          False           |                   |                 |          False           |\n",
      "| max_token_len           |           512            |                   |                 |           512            |\n",
      "| project_dir             | /mnt/d/imperial/second_t |                   |                 | /mnt/d/imperial/second_t |\n",
      "|                         | erm/adls/projects/mase/m |                   |                 | erm/adls/projects/mase/m |\n",
      "|                         |        ase_output        |                   |                 |        ase_output        |\n",
      "| project                 |           \u001b[38;5;8mNone\u001b[0m           | vgg_cifar10_prune |                 |    vgg_cifar10_prune     |\n",
      "| model                   |           \u001b[38;5;8mNone\u001b[0m           |       vgg7        |                 |           vgg7           |\n",
      "| dataset                 |           \u001b[38;5;8mNone\u001b[0m           |      cifar10      |                 |         cifar10          |\n",
      "+-------------------------+--------------------------+-------------------+-----------------+--------------------------+\n",
      "\u001b[32mINFO    \u001b[0m \u001b[34mInitialising model 'vgg7'...\u001b[0m\n",
      "\u001b[32mINFO    \u001b[0m \u001b[34mInitialising dataset 'cifar10'...\u001b[0m\n",
      "\u001b[32mINFO    \u001b[0m \u001b[34mProject will be created at /mnt/d/imperial/second_term/adls/projects/mase/mase_output/vgg_cifar10_prune\u001b[0m\n",
      "\u001b[32mINFO    \u001b[0m \u001b[34mTransforming model 'vgg7'...\u001b[0m\n",
      "Files already downloaded and verified\n",
      "Files already downloaded and verified\n",
      "Files already downloaded and verified\n",
      "Files already downloaded and verified\n",
      "Files already downloaded and verified\n",
      "Files already downloaded and verified\n",
      "Files already downloaded and verified\n",
      "Files already downloaded and verified\n",
      "pass_config\n",
      "{'weight': {'sparsity': 0.5, 'scope': 'local', 'granularity': 'elementwise', 'method': 'l1-norm'}, 'activation': {'sparsity': 0.5, 'scope': 'local', 'granularity': 'elementwise', 'method': 'l1-norm'}}\n",
      "sparsity\n",
      "0.5\n",
      "scope\n",
      "local\n",
      "granularity\n",
      "elementwise\n",
      "method\n",
      "l1-norm\n",
      "Traceback (most recent call last):\n",
      "  File \"/mnt/d/imperial/second_term/adls/projects/mase/machop/./ch\", line 6, in <module>\n",
      "    ChopCLI().run()\n",
      "  File \"/mnt/d/imperial/second_term/adls/projects/mase/machop/chop/cli.py\", line 270, in run\n",
      "    run_action_fn()\n",
      "  File \"/mnt/d/imperial/second_term/adls/projects/mase/machop/chop/cli.py\", line 374, in _run_transform\n",
      "    transform(**transform_params)\n",
      "  File \"/mnt/d/imperial/second_term/adls/projects/mase/machop/chop/actions/transform.py\", line 163, in transform\n",
      "    graph, _ = PASSES[pass_name](\n",
      "  File \"/mnt/d/imperial/second_term/adls/projects/mase/machop/chop/passes/graph/transforms/pruning/prune.py\", line 199, in prune_transform_pass\n",
      "    graph = prune_graph_iterator(graph, pass_args)\n",
      "  File \"/mnt/d/imperial/second_term/adls/projects/mase/machop/chop/passes/graph/transforms/pruning/prune.py\", line 154, in prune_graph_iterator\n",
      "    hooks = build_pruning_hooks(info, w_config, a_config)\n",
      "  File \"/mnt/d/imperial/second_term/adls/projects/mase/machop/chop/passes/graph/transforms/pruning/prune.py\", line 87, in build_pruning_hooks\n",
      "    \"a_hook\": get_activation_hook(k, info, a_info, a_config),\n",
      "  File \"/mnt/d/imperial/second_term/adls/projects/mase/machop/chop/passes/graph/transforms/pruning/prune.py\", line 44, in get_activation_hook\n",
      "    parameterization = FakeSparseWeight(a_rank_fn(value, info, a_sparsity))\n",
      "  File \"/mnt/d/imperial/second_term/adls/projects/mase/machop/chop/passes/graph/transforms/pruning/pruning_methods.py\", line 55, in l1\n",
      "    threshold = torch.quantile(tensor.abs().flatten(), sparsity)\n",
      "RuntimeError: quantile() input tensor is too large\n"
     ]
    }
   ],
   "source": [
    "!./ch transform --config configs/examples/vgg_cifar10_prune.toml --task cls --cpu=0"
   ]
  },
  {
   "cell_type": "code",
   "execution_count": null,
   "metadata": {},
   "outputs": [],
   "source": [
    "!./ch train --config configs/examples/vgg_cifar10_train.toml --task cls --cpu=0"
   ]
  }
 ],
 "metadata": {
  "kernelspec": {
   "display_name": "mase",
   "language": "python",
   "name": "python3"
  },
  "language_info": {
   "codemirror_mode": {
    "name": "ipython",
    "version": 3
   },
   "file_extension": ".py",
   "mimetype": "text/x-python",
   "name": "python",
   "nbconvert_exporter": "python",
   "pygments_lexer": "ipython3",
   "version": "3.10.6"
  }
 },
 "nbformat": 4,
 "nbformat_minor": 2
}
